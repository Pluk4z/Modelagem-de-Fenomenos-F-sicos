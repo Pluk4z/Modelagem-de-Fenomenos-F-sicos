{
  "nbformat": 4,
  "nbformat_minor": 0,
  "metadata": {
    "colab": {
      "provenance": [],
      "authorship_tag": "ABX9TyNs2IGby4QhSRkbsRkcP+ft",
      "include_colab_link": true
    },
    "kernelspec": {
      "name": "python3",
      "display_name": "Python 3"
    },
    "language_info": {
      "name": "python"
    }
  },
  "cells": [
    {
      "cell_type": "markdown",
      "metadata": {
        "id": "view-in-github",
        "colab_type": "text"
      },
      "source": [
        "<a href=\"https://colab.research.google.com/github/Pluk4z/Modelagem-de-Fenomenos-F-sicos/blob/main/Algor%C3%ADtmoCache.ipynb\" target=\"_parent\"><img src=\"https://colab.research.google.com/assets/colab-badge.svg\" alt=\"Open In Colab\"/></a>"
      ]
    },
    {
      "cell_type": "markdown",
      "source": [
        "PEDRO LUCAS GHEZZI BITTENCOURT - 3U\n",
        "\n",
        "O primeiro código gera 100 arquivos .txt cada um com 1000 palavras aleatórias. Já o segundo arquivo é o algorítimo de cache em si."
      ],
      "metadata": {
        "id": "m1KjfmQp2yAv"
      }
    },
    {
      "cell_type": "code",
      "source": [
        "import os\n",
        "import string\n",
        "import random\n",
        "\n",
        "dir_path = './arquivos_txt/'\n",
        "\n",
        "if not os.path.exists(dir_path):\n",
        "    os.makedirs(dir_path)\n",
        "\n",
        "for i in range(1, 101):\n",
        "    filename = f'texto{i}.txt'\n",
        "    \n",
        "    with open(os.path.join(dir_path, filename), 'w') as file:\n",
        "        words = [''.join(random.choice(string.ascii_lowercase) for _ in range(10)) for _ in range(1000)]\n",
        "        \n",
        "        file.write(' '.join(words))"
      ],
      "metadata": {
        "id": "EPWHk7KR1XvH"
      },
      "execution_count": 3,
      "outputs": []
    },
    {
      "cell_type": "code",
      "source": [
        "import os\n",
        "import time\n",
        "import random\n",
        "import argparse\n",
        "from collections import OrderedDict, deque\n",
        "\n",
        "NUM_TEXTOS = 100\n",
        "TAM_MAX_CACHE = 10\n",
        "CACHE_LRU = 'LRU'\n",
        "CACHE_FIFO = 'FIFO'\n",
        "\n",
        "def ler_texto_arquivo(numero_texto):\n",
        "    nome_arquivo = f\"textos/texto{numero_texto}.txt\"\n",
        "    with open(nome_arquivo, 'r', encoding='utf-8') as arquivo:\n",
        "        return arquivo.read()\n",
        "\n",
        "def carregar_texto(numero_texto, cache):\n",
        "    if numero_texto in cache:\n",
        "        texto = cache[numero_texto]\n",
        "        print(f\"Cache hit: Texto {numero_texto}\")\n",
        "    else:\n",
        "        texto = ler_texto_arquivo(numero_texto)\n",
        "        cache[numero_texto] = texto\n",
        "        print(f\"Cache miss: Texto {numero_texto}\")\n",
        "    \n",
        "    print(texto)\n",
        "\n",
        "def modo_leitura(cache):\n",
        "    while True:\n",
        "        numero_texto = int(input(\"Digite o número do texto que deseja ler (digite 0 para sair): \"))\n",
        "        if numero_texto == 0:\n",
        "            break\n",
        "        elif numero_texto == -1:\n",
        "            modo_simulacao(cache)\n",
        "            break\n",
        "        elif numero_texto < 1 or numero_texto > NUM_TEXTOS:\n",
        "            print(f\"O número deve estar entre 1 e {NUM_TEXTOS}\")\n",
        "        else:\n",
        "            carregar_texto(numero_texto, cache)\n",
        "\n",
        "def modo_simulacao(cache):\n",
        "    parser = argparse.ArgumentParser(description='Simulação de acesso a textos')\n",
        "    parser.add_argument('--num_usuarios', type=int, default=3, help='Número de usuários na simulação')\n",
        "    parser.add_argument('--num_solicitacoes', type=int, default=200, help='Número de solicitações por usuário')\n",
        "    args = parser.parse_args()\n",
        "\n",
        "    num_usuarios = args.num_usuarios\n",
        "    num_solicitacoes = args.num_solicitacoes\n",
        "    textos_sorteados_aleatorio = [random.randint(1, NUM_TEXTOS) for _ in range(num_usuarios * num_solicitacoes)]\n",
        "    textos_sorteados_poison = list(random.choices(range(1, NUM_TEXTOS+1), k=num_usuarios * num_solicitacoes, weights=[1, 0, 0, 2]))\n",
        "    textos_sorteados_especial = list(random.choices(range(1, NUM_TEXTOS+1), k=num_usuarios * num_solicitacoes, weights=[0] * 30 + [33] * 11))\n",
        "\n",
        "    cache_hit_lru = {i: 0 for i in range(1, NUM_TEXTOS+1)}\n",
        "    cache_miss_lru = {i: 0 for i in range(1, NUM_TEXTOS+1)}\n",
        "    cache_lru = OrderedDict()\n",
        "    cache_hit_fifo = {i: 0 for i in range(1, NUM_TEXTOS+1)}\n",
        "    cache_miss_fifo = {i: 0 for i in range(1, NUM_TEXTOS+1)}\n",
        "    cache_fifo = deque([], TAM_MAX_CACHE)\n",
        "\n",
        "    print(\"Simulação com cache LRU\")\n",
        "    for i in range(num_usuarios):\n",
        "        for j in range(num_solicitacoes):\n",
        "            numero_texto = textos_sorteados_aleatorio[i*num_solicitacoes+j]\n",
        "            if numero_texto in cache_lru:\n",
        "                cache_hit_lru[numero_texto] += 1\n",
        "            else:\n",
        "                cache_miss_lru\n"
      ],
      "metadata": {
        "id": "riTtn6dByKE_"
      },
      "execution_count": 4,
      "outputs": []
    }
  ]
}